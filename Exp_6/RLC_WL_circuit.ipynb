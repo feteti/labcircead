{
 "cells": [
  {
   "cell_type": "markdown",
   "metadata": {},
   "source": [
    "# -RLC circuit with losses"
   ]
  },
  {
   "cell_type": "code",
   "execution_count": 224,
   "metadata": {},
   "outputs": [],
   "source": [
    "import numpy as np\n",
    "import pandas as pd\n",
    "import matplotlib.pyplot as plt\n",
    "from scipy import interpolate"
   ]
  },
  {
   "cell_type": "markdown",
   "metadata": {},
   "source": [
    "### 1) Gain Module"
   ]
  },
  {
   "cell_type": "code",
   "execution_count": 145,
   "metadata": {},
   "outputs": [],
   "source": [
    "def modG(f, r, rs, c, l):\n",
    "    \n",
    "    w = 2 * np.pi *f \n",
    "    \n",
    "    a = (rs/(w*l))**2\n",
    "    \n",
    "    b = 2*r/rs\n",
    "    \n",
    "    c1 = (w*r*c)**2\n",
    "    \n",
    "    d = (r/(w*l))**2\n",
    "    \n",
    "    w_0 = 1/(np.sqrt(l*c))\n",
    "    \n",
    "    e =(1 - (w/w_0)**2)**2 \n",
    "        \n",
    "    nu = (1+a)\n",
    "    \n",
    "    de = 1 + a*(1+b+c1)+(d*e)\n",
    "    \n",
    "    return np.sqrt(nu/de)"
   ]
  },
  {
   "cell_type": "markdown",
   "metadata": {},
   "source": [
    "### 2) Phase Difference"
   ]
  },
  {
   "cell_type": "code",
   "execution_count": 232,
   "metadata": {},
   "outputs": [],
   "source": [
    "def phG(f, r, rs, c, l):\n",
    "    w = 2*np.pi*f\n",
    "    \n",
    "    p1 = r/(w*l)\n",
    "    \n",
    "    n1 = (1-(w**2)*l*c)\n",
    "    n2 = (1 + (rs**2)/((w*l)**2))\n",
    "    \n",
    "    d1 = (1+(rs*(rs+r)/((w*l)**2)))\n",
    "    \n",
    "    \n",
    "    return p1*(n1*n2)/(d1)"
   ]
  },
  {
   "cell_type": "markdown",
   "metadata": {},
   "source": [
    "### 3) Interpolador Ganho"
   ]
  },
  {
   "cell_type": "code",
   "execution_count": 248,
   "metadata": {},
   "outputs": [],
   "source": [
    "def cutGain(x, y):\n",
    "    interp = interpolate.interp1d(y, x)\n",
    "    return interp(0.25/np.sqrt(2))"
   ]
  },
  {
   "cell_type": "markdown",
   "metadata": {},
   "source": [
    "### 4) Interpolador Fase"
   ]
  },
  {
   "cell_type": "code",
   "execution_count": 149,
   "metadata": {},
   "outputs": [],
   "source": [
    "def cutPhase(x, y):\n",
    "    interp = interpolate.interp1d(y, x)\n",
    "    return interp()"
   ]
  },
  {
   "cell_type": "markdown",
   "metadata": {},
   "source": [
    "### 5) Graph Experimental Gain"
   ]
  },
  {
   "cell_type": "code",
   "execution_count": 297,
   "metadata": {},
   "outputs": [],
   "source": [
    "def graphExpGain(x, y, legendax, legenday):\n",
    "    xticks = [1000, 3000, 5000, 7000, 9000,\n",
    "             11000,15000,20000]\n",
    "    plt.plot(x, y, c = 'red', linestyle = 'dashed')\n",
    "    plt.scatter(x, y, c = 'g', marker = '.')\n",
    "    \n",
    "    plt.plot(x[y.index(max(y))], max(y), c = 'b', marker = 'x')\n",
    "    \n",
    "    plt.plot([f_c1, f_c2], [G_c]*2, c = 'orange')\n",
    "    \n",
    "    plt.xscale(\"linear\")\n",
    "    plt.xticks(xticks, xticks)\n",
    "    \n",
    "    plt.annotate(\"Frequência \\n de Ressonância\", xy = (x[y.index(max(y))], max(y)-0.01))\n",
    "    plt.annotate(\"(\"+str(round(x[y.index(max(y))],2))+\",\" + str(round(max(y),2))+ \")\", \n",
    "                 xy = ((x[y.index(max(y))]+200, max(y)-0.03)))\n",
    "    \n",
    "    \n",
    "    plt.plot(np.arange(100,20000,100), [G_c]*199, c = 'b',\n",
    "            linestyle = 'dashed')\n",
    "    \n",
    "    plt.annotate(\"f1\\n8771 Hz\", xy = (f_c1 - 2500, G_c+0.011))\n",
    "    \n",
    "    plt.annotate(\"f2\\n9423 Hz\", xy = (f_c2 +1500, G_c+0.011))\n",
    "\n",
    "    \n",
    "    \n",
    "    plt.xlim(1000,20000)\n",
    "    \n",
    "    plt.xlabel(legendax)\n",
    "    plt.ylabel(legenday)\n",
    "    \n",
    "    plt.savefig(\"Ganho_Experimental\")\n",
    "    plt.show()"
   ]
  },
  {
   "cell_type": "markdown",
   "metadata": {},
   "source": [
    "### 6) Graph Experimental Phase"
   ]
  },
  {
   "cell_type": "code",
   "execution_count": 314,
   "metadata": {},
   "outputs": [],
   "source": [
    "def graphExpPhase(x, y, legendax, legenday):\n",
    "    \n",
    "    xticks = [1000, 3000, 5000, 7000, 9000,\n",
    "            12000,15000,20000]\n",
    "    \n",
    "    #plt.scatter(float(cutPhase(x, y)), -45, c = 'b' , marker = 'o')\n",
    "    plt.scatter(x, y, c = 'g', marker = '.')\n",
    "    plt.plot(x, y, c ='r', linestyle = 'dashed')\n",
    "    \n",
    "    plt.xscale(\"linear\")\n",
    "    plt.xticks(xticks, xticks)\n",
    "    #plt.annotate(\"Frequência \\n de Corte\", xy = (cutPhase(x, y), -43))\n",
    "    #plt.annotate(\"(\"+str(round(float(cutPhase(x, y)),2))+\", -45)\",xy = (cutPhase(x, y)-1200, -45-5) )\n",
    "    \n",
    "    plt.xlim(10,20000)\n",
    "    \n",
    "    \n",
    "    plt.xlabel(legendax)\n",
    "    plt.ylabel(legenday)\n",
    "    \n",
    "    plt.savefig(\"Exp_fase\")\n",
    "    plt.show()\n",
    "    "
   ]
  },
  {
   "cell_type": "markdown",
   "metadata": {},
   "source": [
    "## Exemplo"
   ]
  },
  {
   "cell_type": "code",
   "execution_count": 152,
   "metadata": {},
   "outputs": [],
   "source": [
    "exp_gain = [0.00203431, 0.00623227, 0.0131948, 0.031293, 0.0625361,\n",
    "           0.111603, 0.183614, 0.252544, 0.249565, 0.218056, \n",
    "           0.182436, 0.135087, 0.0851717, 0.0436967, 0.0298968,\n",
    "           0.0160972, 0.00961162]"
   ]
  },
  {
   "cell_type": "code",
   "execution_count": 299,
   "metadata": {},
   "outputs": [],
   "source": [
    "exp_freq = np.array([1000, 3000, 5000, 7000, 8000, 8500, 8800, 9000,\n",
    "           9200, 9300, 9400, 9600, 10000, 11000, 12000, 15000, 20000])"
   ]
  },
  {
   "cell_type": "code",
   "execution_count": 304,
   "metadata": {},
   "outputs": [],
   "source": [
    "exp_phase = [88, 85.213, 96.8827, 43.1436, 20.8539,\n",
    "            10.6412, 4.7877, 1.08929, -2.53371, -4.16877, \n",
    "            -5.98401, -9.53726, -16.8976, -33.5173, -48.9742, -85.7383,\n",
    "            -90]"
   ]
  },
  {
   "cell_type": "code",
   "execution_count": 298,
   "metadata": {},
   "outputs": [
    {
     "data": {
      "image/png": "[encoded data removed]",
      "text/plain": [
       "<Figure size 432x288 with 1 Axes>"
      ]
     },
     "metadata": {
      "needs_background": "light"
     },
     "output_type": "display_data"
    }
   ],
   "source": [
    "graphExpGain(exp_freq, exp_gain, \"Frequência (Hz)\", \"Ganho\")"
   ]
  },
  {
   "cell_type": "code",
   "execution_count": 255,
   "metadata": {},
   "outputs": [
    {
     "data": {
      "text/plain": [
       "0.17677669529663687"
      ]
     },
     "execution_count": 255,
     "metadata": {},
     "output_type": "execute_result"
    }
   ],
   "source": [
    "G_c = 0.25/np.sqrt(2)\n",
    "G_c"
   ]
  },
  {
   "cell_type": "markdown",
   "metadata": {},
   "source": [
    "Pelo gráfico determinamos os indices"
   ]
  },
  {
   "cell_type": "code",
   "execution_count": 256,
   "metadata": {},
   "outputs": [
    {
     "data": {
      "text/plain": [
       "array(8771.51558219)"
      ]
     },
     "execution_count": 256,
     "metadata": {},
     "output_type": "execute_result"
    }
   ],
   "source": [
    "f_c1 = cutGain(exp_freq[5:7], exp_gain[5:7])\n",
    "f_c1"
   ]
  },
  {
   "cell_type": "code",
   "execution_count": 257,
   "metadata": {},
   "outputs": [
    {
     "data": {
      "text/plain": [
       "array(9423.90464298)"
      ]
     },
     "execution_count": 257,
     "metadata": {},
     "output_type": "execute_result"
    }
   ],
   "source": [
    "f_c2 = cutGain(exp_freq[10:12], exp_gain[10:12])\n",
    "f_c2"
   ]
  },
  {
   "cell_type": "code",
   "execution_count": 315,
   "metadata": {},
   "outputs": [
    {
     "data": {
      "image/png": "[encoded data removed]",
      "text/plain": [
       "<Figure size 432x288 with 1 Axes>"
      ]
     },
     "metadata": {
      "needs_background": "light"
     },
     "output_type": "display_data"
    }
   ],
   "source": [
    "graphExpPhase(exp_freq, exp_phase, \"Frequência (Hz)\", \"Fase\")"
   ]
  },
  {
   "cell_type": "code",
   "execution_count": null,
   "metadata": {},
   "outputs": [],
   "source": []
  }
 ],
 "metadata": {
  "kernelspec": {
   "display_name": "Python 3",
   "language": "python",
   "name": "python3"
  },
  "language_info": {
   "codemirror_mode": {
    "name": "ipython",
    "version": 3
   },
   "file_extension": ".py",
   "mimetype": "text/x-python",
   "name": "python",
   "nbconvert_exporter": "python",
   "pygments_lexer": "ipython3",
   "version": "3.7.3"
  }
 },
 "nbformat": 4,
 "nbformat_minor": 2
}
