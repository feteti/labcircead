{
 "cells": [
  {
   "cell_type": "markdown",
   "metadata": {},
   "source": [
    "# -Circuito RC"
   ]
  },
  {
   "cell_type": "code",
   "execution_count": 58,
   "metadata": {},
   "outputs": [],
   "source": [
    "import numpy as np\n",
    "import pandas as pd\n",
    "import matplotlib.pyplot as plt\n",
    "from scipy import interpolate"
   ]
  },
  {
   "cell_type": "markdown",
   "metadata": {},
   "source": [
    "### 1) Módulo do ganho"
   ]
  },
  {
   "cell_type": "code",
   "execution_count": 4,
   "metadata": {},
   "outputs": [],
   "source": [
    "def modG(w, r, c):\n",
    "    return 1/(np.sqrt(1+(w*r*c)**2))"
   ]
  },
  {
   "cell_type": "markdown",
   "metadata": {},
   "source": [
    "### 2) Diferença de Fase"
   ]
  },
  {
   "cell_type": "code",
   "execution_count": 6,
   "metadata": {},
   "outputs": [],
   "source": [
    "def phG(w, r, c):\n",
    "    return -np.math.atan(w*R*c)"
   ]
  },
  {
   "cell_type": "markdown",
   "metadata": {},
   "source": [
    "### 3) Grapher Gain"
   ]
  },
  {
   "cell_type": "code",
   "execution_count": 359,
   "metadata": {},
   "outputs": [],
   "source": [
    "def graphGain(x, y, legendax, legenday):\n",
    "    \n",
    "    y1 = 20*np.log10(y)\n",
    "    \n",
    "    xticks = [10, 100, 1000, 10000]\n",
    "    \n",
    "    plt.scatter(cutGain(x, y), -3, c = 'r' , marker = 'o')\n",
    "    plt.plot(x, y1)\n",
    "    \n",
    "    plt.xscale(\"log\")\n",
    "    plt.xticks(xticks, xticks)\n",
    "    plt.annotate(\"Frequência \\n de Corte\", xy = (cutGain(x, y)-100, -3 +0.25))\n",
    "    plt.annotate(\"(\"+str(round(float(cutGain(x, y)),2))+\", -3)\",xy = (cutGain(x, y)-1020, -3-1.25) )\n",
    "    \n",
    "    plt.xlim(10,10000)\n",
    "    \n",
    "    plt.xlabel(legendax)\n",
    "    plt.ylabel(legenday)\n",
    "    \n",
    "    plt.show()"
   ]
  },
  {
   "cell_type": "markdown",
   "metadata": {},
   "source": [
    "### 4) Decibéis Converter"
   ]
  },
  {
   "cell_type": "code",
   "execution_count": 353,
   "metadata": {},
   "outputs": [],
   "source": [
    "def decib(n):\n",
    "    return 20*np.log10(n)"
   ]
  },
  {
   "cell_type": "markdown",
   "metadata": {},
   "source": [
    "### 5) Interpolador Ganho"
   ]
  },
  {
   "cell_type": "code",
   "execution_count": 354,
   "metadata": {},
   "outputs": [],
   "source": [
    "def cutGain(x, y):\n",
    "    y = 20*np.log10(y)\n",
    "    interp = interpolate.interp1d(y, x)\n",
    "    return interp(-3)"
   ]
  },
  {
   "cell_type": "markdown",
   "metadata": {},
   "source": [
    "### 6) Graph Phase"
   ]
  },
  {
   "cell_type": "code",
   "execution_count": 379,
   "metadata": {},
   "outputs": [],
   "source": [
    "def graphPhase(x, y, legendax, legenday):\n",
    "    xticks = [10, 100, 1000, 10000]\n",
    "    \n",
    "    plt.scatter(float(cutPhase(x, y)), -45, c = 'r' , marker = 'o')\n",
    "    plt.plot(x, y)\n",
    "    \n",
    "    plt.xscale(\"log\")\n",
    "    plt.xticks(xticks, xticks)\n",
    "    plt.annotate(\"Frequência \\n de Corte\", xy = (cutPhase(x, y), -43))\n",
    "    plt.annotate(\"(\"+str(round(float(cutPhase(x, y)),2))+\", -45)\",xy = (cutPhase(x, y)-1400, -45-5) )\n",
    "    \n",
    "    plt.xlim(10,10000)\n",
    "    \n",
    "    \n",
    "    plt.xlabel(legendax)\n",
    "    plt.ylabel(legenday)\n",
    "    \n",
    "    plt.show()"
   ]
  },
  {
   "cell_type": "markdown",
   "metadata": {},
   "source": [
    "### 6) Interpolador Fase"
   ]
  },
  {
   "cell_type": "code",
   "execution_count": 386,
   "metadata": {},
   "outputs": [],
   "source": [
    "def cutPhase(x, y):\n",
    "    interp = interpolate.interp1d(y, x)\n",
    "    return interp(-45)"
   ]
  },
  {
   "cell_type": "markdown",
   "metadata": {},
   "source": [
    "### 7) Graph Experimental Gain"
   ]
  },
  {
   "cell_type": "code",
   "execution_count": 384,
   "metadata": {},
   "outputs": [],
   "source": [
    "def graphExpGain(x, y, legendax, legenday):\n",
    "    xticks = [10, 100, 1000, 10000]\n",
    "    y1 = 20*np.log10(y)\n",
    "    plt.scatter(x, y1, c = 'r', marker = '.')\n",
    "    \n",
    "    plt.plot(cutGain(x, y), -3, c = 'b', marker = 'x')\n",
    "    \n",
    "    plt.xscale(\"log\")\n",
    "    plt.xticks(xticks, xticks)\n",
    "    plt.annotate(\"Frequência \\n de Corte\", xy = (cutGain(x, y)-120, -3 +0.35))\n",
    "    plt.annotate(\"(\"+str(round(float(cutGain(x, y)),2))+\", -3)\",xy = (cutGain(x, y)-1100, -3-1.25) )\n",
    "    \n",
    "    plt.xlim(10,10000)\n",
    "    \n",
    "    plt.xlabel(legendax)\n",
    "    plt.ylabel(legenday)\n",
    "    \n",
    "    plt.savefig(\"Ganho_Experimental\")\n",
    "    plt.show()"
   ]
  },
  {
   "cell_type": "markdown",
   "metadata": {},
   "source": [
    "### 8) Graph Experimental Phase"
   ]
  },
  {
   "cell_type": "code",
   "execution_count": 399,
   "metadata": {},
   "outputs": [],
   "source": [
    "def graphExpPhase(x, y, legendax, legenday):\n",
    "    \n",
    "    xticks = [10, 100, 1000, 10000]\n",
    "    \n",
    "    plt.scatter(float(cutPhase(x, y)), -45, c = 'b' , marker = 'o')\n",
    "    plt.scatter(x, y, c = 'r', marker = 'x')\n",
    "    \n",
    "    plt.xscale(\"log\")\n",
    "    plt.xticks(xticks, xticks)\n",
    "    plt.annotate(\"Frequência \\n de Corte\", xy = (cutPhase(x, y), -43))\n",
    "    plt.annotate(\"(\"+str(round(float(cutPhase(x, y)),2))+\", -45)\",xy = (cutPhase(x, y)-1200, -45-5) )\n",
    "    \n",
    "    plt.xlim(10,10000)\n",
    "    \n",
    "    \n",
    "    plt.xlabel(legendax)\n",
    "    plt.ylabel(legenday)\n",
    "    \n",
    "    plt.savefig(\"Exp_fase\")\n",
    "    plt.show()\n",
    "    "
   ]
  },
  {
   "cell_type": "markdown",
   "metadata": {},
   "source": [
    "## Exemplo"
   ]
  },
  {
   "cell_type": "markdown",
   "metadata": {},
   "source": [
    "Exemplo teórico:"
   ]
  },
  {
   "cell_type": "code",
   "execution_count": 408,
   "metadata": {},
   "outputs": [],
   "source": [
    "theory_gain = np.array([0.985798,\n",
    "    0.994293,\n",
    "    0.988591,\n",
    "    0.979189,\n",
    "    0.966467,\n",
    "    0.950814,\n",
    "    0.932686,\n",
    "    0.912519,\n",
    "    0.89081,    \n",
    "    0.867977,\n",
    "    0.8444,\n",
    "    0.820436,\n",
    "    0.796386,\n",
    "    0.772468,\n",
    "    0.748886,\n",
    "    0.725788,\n",
    "    0.703286,\n",
    "    0.681466,\n",
    "    0.66037,\n",
    "    0.640051,\n",
    "    0.620496,\n",
    "    0.601725,\n",
    "    0.583721,\n",
    "    0.566491,\n",
    "    0.549993,\n",
    "    0.534212,\n",
    "    0.519107,\n",
    "    0.504672,\n",
    "    0.490845,\n",
    "    0.477643,\n",
    "    0.464987,\n",
    "    0.452894,\n",
    "    0.44127,    \n",
    "    0.430172,\n",
    "    0.419521,\n",
    "    0.409295,\n",
    "    0.399508,\n",
    "    0.390109,\n",
    "    0.381081,\n",
    "    0.3724,   \n",
    "    0.364057,\n",
    "    0.356039,\n",
    "    0.348325,\n",
    "    0.340891,\n",
    "    0.333731,\n",
    "    0.326828,\n",
    "    0.320165,\n",
    "    0.313736,\n",
    "    0.307511,\n",
    "    0.301512,\n",
    "    0.295716,\n",
    "    0.290109,\n",
    "    0.284677,\n",
    "    0.279424,\n",
    "    0.274339,\n",
    "    0.269448,\n",
    "    0.264674,\n",
    "    0.260047,\n",
    "    0.255552,\n",
    "    0.251184,\n",
    "    0.247176])"
   ]
  },
  {
   "cell_type": "code",
   "execution_count": 403,
   "metadata": {},
   "outputs": [],
   "source": [
    "theory_phase = [0,\n",
    "    -3.95362,\n",
    "    -7.51653,\n",
    "    -11.0226,\n",
    "    -14.4482,\n",
    "    -17.7685,\n",
    "    -20.975,    \n",
    "    -24.0457,\n",
    "    -26.9791,\n",
    "    -29.7678,\n",
    "    -32.4086,\n",
    "    -34.9033,\n",
    "    -37.2533,\n",
    "    -39.4658,\n",
    "    -41.5415,\n",
    "    -43.4901,\n",
    "    -45.316,   \n",
    "    -47.0254,\n",
    "    -48.6215,\n",
    "    -50.1182,\n",
    "    -51.5118,\n",
    "    -52.8108,\n",
    "    -54.0251,\n",
    "    -55.1584,\n",
    "    -56.2078,\n",
    "    -57.1995,\n",
    "    -58.1135,\n",
    "    -58.9586,\n",
    "    -59.7442,\n",
    "    -60.4772,\n",
    "    -61.1521,\n",
    "    -61.7749,\n",
    "    -62.3704,\n",
    "    -62.9114,\n",
    "    -63.4077,\n",
    "    -63.8311,\n",
    "    -64.272,   \n",
    "    -64.6452,\n",
    "    -64.99,   \n",
    "    -65.3106,\n",
    "    -65.6187,\n",
    "    -65.854,    \n",
    "    -66.1138,\n",
    "    -66.2758,\n",
    "    -66.4848,\n",
    "    -66.6943,\n",
    "    -66.8983,\n",
    "    -66.9625,\n",
    "    -67.0676,\n",
    "    -67.1796,\n",
    "    -67.2692,\n",
    "    -67.3709,\n",
    "    -67.4326,\n",
    "    -67.5007,\n",
    "    -67.4855,\n",
    "    -67.4679,\n",
    "    -67.4885,\n",
    "    -67.498,    \n",
    "    -67.5157,\n",
    "    -67.5548,\n",
    "    -67.5]"
   ]
  },
  {
   "cell_type": "code",
   "execution_count": 406,
   "metadata": {},
   "outputs": [],
   "source": [
    "theory_frequence = np.arange(10, 6100, 100)"
   ]
  },
  {
   "cell_type": "code",
   "execution_count": 409,
   "metadata": {},
   "outputs": [
    {
     "data": {
      "image/png": "[encoded data removed]",
      "text/plain": [
       "<Figure size 432x288 with 1 Axes>"
      ]
     },
     "metadata": {
      "needs_background": "light"
     },
     "output_type": "display_data"
    }
   ],
   "source": [
    "graphGain(theory_frequence, theory_gain, \"Frequência (Hz)\", \"Ganho(dB)\")"
   ]
  },
  {
   "cell_type": "code",
   "execution_count": 410,
   "metadata": {},
   "outputs": [
    {
     "data": {
      "image/png": "[encoded data removed]",
      "text/plain": [
       "<Figure size 432x288 with 1 Axes>"
      ]
     },
     "metadata": {
      "needs_background": "light"
     },
     "output_type": "display_data"
    }
   ],
   "source": [
    "graphPhase(theory_frequence, theory_phase, \"Frequência\", \"Fase\")\n"
   ]
  },
  {
   "cell_type": "markdown",
   "metadata": {},
   "source": [
    "Experimento:"
   ]
  },
  {
   "cell_type": "code",
   "execution_count": 411,
   "metadata": {},
   "outputs": [],
   "source": [
    "exp_gain = [0.999971, 0.999272, 0.997094, 0.975523, 0.939493, 0.893211, 0.814009, 0.798713, \n",
    "           0.774638, 0.750907, 0.727668, 0.705034, 0.683087, 0.661881, 0.62181, 0.46566, 0.247176, 0.1451]"
   ]
  },
  {
   "cell_type": "code",
   "execution_count": 412,
   "metadata": {},
   "outputs": [],
   "source": [
    "exp_freq = [10, 50, 100, 300, 500, 700, 1000, 1200, 1300, 1400, 1500, 1600, 1700, 1800, 2000, 3000, 6000, 10000]"
   ]
  },
  {
   "cell_type": "code",
   "execution_count": 413,
   "metadata": {},
   "outputs": [],
   "source": [
    "exp_phase = [0, 0, -3.59961, -10.704, -17.5703, -24.0492, -32.8426, -37.0241, -39.2503, -41.3418, -43.3025,\n",
    "            -45.1388, -46.8582, -48.4691, -51.3738, -61.0878, -67.5711,-63.1176]"
   ]
  },
  {
   "cell_type": "code",
   "execution_count": 414,
   "metadata": {},
   "outputs": [
    {
     "data": {
      "image/png": "[encoded data removed]",
      "text/plain": [
       "<Figure size 432x288 with 1 Axes>"
      ]
     },
     "metadata": {
      "needs_background": "light"
     },
     "output_type": "display_data"
    }
   ],
   "source": [
    "graphExpGain(exp_freq, exp_gain, \"Frequência(Hz)\", \"Ganho (dB)\")"
   ]
  },
  {
   "cell_type": "code",
   "execution_count": 400,
   "metadata": {},
   "outputs": [
    {
     "data": {
      "image/png": "[encoded data removed]",
      "text/plain": [
       "<Figure size 432x288 with 1 Axes>"
      ]
     },
     "metadata": {
      "needs_background": "light"
     },
     "output_type": "display_data"
    }
   ],
   "source": [
    "graphExpPhase(exp_freq, exp_phase,\"Frequência(Hz)\", \"Fase(º)\" )"
   ]
  },
  {
   "cell_type": "code",
   "execution_count": null,
   "metadata": {},
   "outputs": [],
   "source": []
  }
 ],
 "metadata": {
  "kernelspec": {
   "display_name": "Python 3",
   "language": "python",
   "name": "python3"
  },
  "language_info": {
   "codemirror_mode": {
    "name": "ipython",
    "version": 3
   },
   "file_extension": ".py",
   "mimetype": "text/x-python",
   "name": "python",
   "nbconvert_exporter": "python",
   "pygments_lexer": "ipython3",
   "version": "3.7.3"
  }
 },
 "nbformat": 4,
 "nbformat_minor": 2
}
